{
 "cells": [
  {
   "cell_type": "markdown",
   "id": "91bec93b",
   "metadata": {
    "_execution_state": "idle",
    "_uuid": "051d70d956493feee0c6d64651c6a088724dca2a",
    "papermill": {
     "duration": 0.037946,
     "end_time": "2021-07-17T14:34:56.098254",
     "exception": false,
     "start_time": "2021-07-17T14:34:56.060308",
     "status": "completed"
    },
    "tags": []
   },
   "source": [
    "## Summary\n",
    "\n",
    "This is a case study for *Bellabeat* - a high-tech design and manufacturing company that produces health-focused smart devices for women. The Scenario is, Myself as Junior Data Analyst, the goal of this project is to provide an analysis of how consumers are using their smart devices. The insights gained from the analysis will then hopefully contribute to Bellabeat's marketing team as required by the case study.\n",
    "  \n",
    "## Target Audience\n",
    "  \n",
    "  Female users to improve their health \n",
    "  \n",
    "## Key Stakeholders\n",
    "  \n",
    "  * Urška Sršen: Bellabeat’s cofounder and Chief Creative Officer\n",
    "  * Sando Mur: Mathematician and Bellabeat’s cofounder; \n",
    "  * key member of the Bellabeat executive team\n",
    "  \n",
    "## Business Task\n",
    "  \n",
    "  * Analyze smart device usage data in order to gain\n",
    "    insight into how people are already using their       smart devices.\n",
    "  \n",
    "*Throughout the project, I will be following the 6 stages :* **Ask,Prepare,Process,Analyze,Share,Act**"
   ]
  },
  {
   "cell_type": "markdown",
   "id": "ce54e326",
   "metadata": {
    "papermill": {
     "duration": 0.036207,
     "end_time": "2021-07-17T14:34:56.170925",
     "exception": false,
     "start_time": "2021-07-17T14:34:56.134718",
     "status": "completed"
    },
    "tags": []
   },
   "source": [
    "## Stage 1 : ASK\n",
    "  \n",
    "  * How consumers use non-Bellabeat smart devices?\n",
    "  * How could the insights I gain, help influence Bellabeat marketing strategy?\n",
    "\n",
    "**Deliverable:**\n",
    "  \n",
    "*      Insights on the trends in smart device usage\n",
    "*      Use insights above to give recommendation on Bellabeat marketing strategy\n",
    "   \n",
    "   \n",
    "## Stage 2 : PREPARE\n",
    "\n",
    "     The data I am analyzing are FitBit Fitness Tracker Data made and available through         Mobius.\n",
    "    \n",
    "**Does the data ROCC?**\n",
    "\n",
    "  * **Reliable** : Reliablity is low. Only 30 people and 1 month is not representative. \n",
    "  * **Original** : The data is not original or from internal. The Data was hosted by Mobius on Kaggle. \n",
    "  * **Comprehensive** : A Very small sample, which lacks even the category **Gender**\n",
    "  * **Current** : Data is not the current, Its a 6 year old data.\n",
    "  * **Cited** : Yes and Low.\n",
    "  \n",
    "**How to address licensing, privacy, security, and accessibility?**\n",
    "\n",
    "  * License: CC0: Public Domain \n",
    "\n",
    "**Are there any problems with the data?**\n",
    "\n",
    "  * Data was collected between 03.12.2016-05.12.2016,     out of date.\n",
    "  * Corona changes the life style of people all over      the world. However, this dataset does not include    data during corona time.\n",
    "  * Data just include March to May, no data from other     seasons, like summer, autumn, winter.\n",
    "  * Data set just include customers of FitBit Fitness     Tracker, no other smart device users.\n",
    "  * Bellabeat focuses on female users. However, this      dataset does not include sex information of the       users.\n",
    "  * The dataset just includes 30 users, definitely can     not reflect the overall population.\n"
   ]
  },
  {
   "cell_type": "markdown",
   "id": "9a30550e",
   "metadata": {
    "papermill": {
     "duration": 0.037293,
     "end_time": "2021-07-17T14:34:56.244680",
     "exception": false,
     "start_time": "2021-07-17T14:34:56.207387",
     "status": "completed"
    },
    "tags": []
   },
   "source": [
    "# Step 3 : Data Cleaning - PROCESS\n",
    "\n"
   ]
  },
  {
   "cell_type": "code",
   "execution_count": 1,
   "id": "c3e92a8e",
   "metadata": {
    "execution": {
     "iopub.execute_input": "2021-07-17T14:34:56.327890Z",
     "iopub.status.busy": "2021-07-17T14:34:56.324395Z",
     "iopub.status.idle": "2021-07-17T14:34:57.845820Z",
     "shell.execute_reply": "2021-07-17T14:34:57.843543Z"
    },
    "papermill": {
     "duration": 1.564913,
     "end_time": "2021-07-17T14:34:57.846041",
     "exception": false,
     "start_time": "2021-07-17T14:34:56.281128",
     "status": "completed"
    },
    "tags": []
   },
   "outputs": [
    {
     "name": "stderr",
     "output_type": "stream",
     "text": [
      "── \u001b[1mAttaching packages\u001b[22m ─────────────────────────────────────── tidyverse 1.3.1 ──\n",
      "\n",
      "\u001b[32m✔\u001b[39m \u001b[34mggplot2\u001b[39m 3.3.4     \u001b[32m✔\u001b[39m \u001b[34mpurrr  \u001b[39m 0.3.4\n",
      "\u001b[32m✔\u001b[39m \u001b[34mtibble \u001b[39m 3.1.2     \u001b[32m✔\u001b[39m \u001b[34mdplyr  \u001b[39m 1.0.7\n",
      "\u001b[32m✔\u001b[39m \u001b[34mtidyr  \u001b[39m 1.1.3     \u001b[32m✔\u001b[39m \u001b[34mstringr\u001b[39m 1.4.0\n",
      "\u001b[32m✔\u001b[39m \u001b[34mreadr  \u001b[39m 1.4.0     \u001b[32m✔\u001b[39m \u001b[34mforcats\u001b[39m 0.5.1\n",
      "\n",
      "── \u001b[1mConflicts\u001b[22m ────────────────────────────────────────── tidyverse_conflicts() ──\n",
      "\u001b[31m✖\u001b[39m \u001b[34mdplyr\u001b[39m::\u001b[32mfilter()\u001b[39m masks \u001b[34mstats\u001b[39m::filter()\n",
      "\u001b[31m✖\u001b[39m \u001b[34mdplyr\u001b[39m::\u001b[32mlag()\u001b[39m    masks \u001b[34mstats\u001b[39m::lag()\n",
      "\n"
     ]
    }
   ],
   "source": [
    "# Setting up the environment\n",
    "library(tidyverse)"
   ]
  },
  {
   "cell_type": "code",
   "execution_count": 2,
   "id": "a52ece9b",
   "metadata": {
    "execution": {
     "iopub.execute_input": "2021-07-17T14:34:57.965089Z",
     "iopub.status.busy": "2021-07-17T14:34:57.927797Z",
     "iopub.status.idle": "2021-07-17T14:34:57.999630Z",
     "shell.execute_reply": "2021-07-17T14:34:57.997763Z"
    },
    "papermill": {
     "duration": 0.115814,
     "end_time": "2021-07-17T14:34:57.999824",
     "exception": false,
     "start_time": "2021-07-17T14:34:57.884010",
     "status": "completed"
    },
    "tags": []
   },
   "outputs": [
    {
     "name": "stderr",
     "output_type": "stream",
     "text": [
      "\n",
      "Attaching package: ‘lubridate’\n",
      "\n",
      "\n",
      "The following objects are masked from ‘package:base’:\n",
      "\n",
      "    date, intersect, setdiff, union\n",
      "\n",
      "\n"
     ]
    }
   ],
   "source": [
    "library(lubridate)"
   ]
  },
  {
   "cell_type": "markdown",
   "id": "dfe08ed4",
   "metadata": {
    "papermill": {
     "duration": 0.039385,
     "end_time": "2021-07-17T14:34:58.077161",
     "exception": false,
     "start_time": "2021-07-17T14:34:58.037776",
     "status": "completed"
    },
    "tags": []
   },
   "source": []
  },
  {
   "cell_type": "markdown",
   "id": "bee6cb18",
   "metadata": {
    "papermill": {
     "duration": 0.037617,
     "end_time": "2021-07-17T14:34:58.153117",
     "exception": false,
     "start_time": "2021-07-17T14:34:58.115500",
     "status": "completed"
    },
    "tags": []
   },
   "source": [
    "**Importing the dataset**"
   ]
  },
  {
   "cell_type": "code",
   "execution_count": 3,
   "id": "574b40da",
   "metadata": {
    "execution": {
     "iopub.execute_input": "2021-07-17T14:34:58.236045Z",
     "iopub.status.busy": "2021-07-17T14:34:58.234929Z",
     "iopub.status.idle": "2021-07-17T14:34:58.431617Z",
     "shell.execute_reply": "2021-07-17T14:34:58.429894Z"
    },
    "papermill": {
     "duration": 0.241212,
     "end_time": "2021-07-17T14:34:58.431825",
     "exception": false,
     "start_time": "2021-07-17T14:34:58.190613",
     "status": "completed"
    },
    "tags": []
   },
   "outputs": [
    {
     "name": "stderr",
     "output_type": "stream",
     "text": [
      "\n",
      "\u001b[36m──\u001b[39m \u001b[1m\u001b[1mColumn specification\u001b[1m\u001b[22m \u001b[36m────────────────────────────────────────────────────────\u001b[39m\n",
      "cols(\n",
      "  Id = \u001b[32mcol_double()\u001b[39m,\n",
      "  ActivityDate = \u001b[31mcol_character()\u001b[39m,\n",
      "  TotalSteps = \u001b[32mcol_double()\u001b[39m,\n",
      "  TotalDistance = \u001b[32mcol_double()\u001b[39m,\n",
      "  TrackerDistance = \u001b[32mcol_double()\u001b[39m,\n",
      "  LoggedActivitiesDistance = \u001b[32mcol_double()\u001b[39m,\n",
      "  VeryActiveDistance = \u001b[32mcol_double()\u001b[39m,\n",
      "  ModeratelyActiveDistance = \u001b[32mcol_double()\u001b[39m,\n",
      "  LightActiveDistance = \u001b[32mcol_double()\u001b[39m,\n",
      "  SedentaryActiveDistance = \u001b[32mcol_double()\u001b[39m,\n",
      "  VeryActiveMinutes = \u001b[32mcol_double()\u001b[39m,\n",
      "  FairlyActiveMinutes = \u001b[32mcol_double()\u001b[39m,\n",
      "  LightlyActiveMinutes = \u001b[32mcol_double()\u001b[39m,\n",
      "  SedentaryMinutes = \u001b[32mcol_double()\u001b[39m,\n",
      "  Calories = \u001b[32mcol_double()\u001b[39m\n",
      ")\n",
      "\n",
      "\n"
     ]
    }
   ],
   "source": [
    "#Importing datasets\n",
    "daily_activity <- read_csv(\"../input/fitbit/Fitabase Data 4.12.16-5.12.16/dailyActivity_merged.csv\")"
   ]
  },
  {
   "cell_type": "markdown",
   "id": "63a4f049",
   "metadata": {
    "papermill": {
     "duration": 0.037462,
     "end_time": "2021-07-17T14:34:58.507321",
     "exception": false,
     "start_time": "2021-07-17T14:34:58.469859",
     "status": "completed"
    },
    "tags": []
   },
   "source": [
    "> There are 940 rows and 15 columns in the daily activity dataset. Lets use skimr "
   ]
  },
  {
   "cell_type": "code",
   "execution_count": 4,
   "id": "e9c1dea3",
   "metadata": {
    "execution": {
     "iopub.execute_input": "2021-07-17T14:34:58.591110Z",
     "iopub.status.busy": "2021-07-17T14:34:58.588978Z",
     "iopub.status.idle": "2021-07-17T14:34:59.040598Z",
     "shell.execute_reply": "2021-07-17T14:34:59.038336Z"
    },
    "papermill": {
     "duration": 0.495415,
     "end_time": "2021-07-17T14:34:59.040779",
     "exception": false,
     "start_time": "2021-07-17T14:34:58.545364",
     "status": "completed"
    },
    "tags": []
   },
   "outputs": [
    {
     "name": "stdout",
     "output_type": "stream",
     "text": [
      "── Data Summary ────────────────────────\n",
      "                           Values        \n",
      "Name                       daily_activity\n",
      "Number of rows             940           \n",
      "Number of columns          15            \n",
      "_______________________                  \n",
      "Column type frequency:                   \n",
      "  character                1             \n",
      "  numeric                  14            \n",
      "________________________                 \n",
      "Group variables            None          \n",
      "\n",
      "── Variable type: character ────────────────────────────────────────────────────\n",
      "  skim_variable n_missing complete_rate   min   max empty n_unique whitespace\n",
      "1 ActivityDate          0             1     8     9     0       31          0\n",
      "\n",
      "── Variable type: numeric ──────────────────────────────────────────────────────\n",
      "   skim_variable            n_missing complete_rate    mean      sd         p0\n",
      " 1 Id                               0             1 4.86e+9 2.42e+9 1503960366\n",
      " 2 TotalSteps                       0             1 7.64e+3 5.09e+3          0\n",
      " 3 TotalDistance                    0             1 5.49e+0 3.92e+0          0\n",
      " 4 TrackerDistance                  0             1 5.48e+0 3.91e+0          0\n",
      " 5 LoggedActivitiesDistance         0             1 1.08e-1 6.20e-1          0\n",
      " 6 VeryActiveDistance               0             1 1.50e+0 2.66e+0          0\n",
      " 7 ModeratelyActiveDistance         0             1 5.68e-1 8.84e-1          0\n",
      " 8 LightActiveDistance              0             1 3.34e+0 2.04e+0          0\n",
      " 9 SedentaryActiveDistance          0             1 1.61e-3 7.35e-3          0\n",
      "10 VeryActiveMinutes                0             1 2.12e+1 3.28e+1          0\n",
      "11 FairlyActiveMinutes              0             1 1.36e+1 2.00e+1          0\n",
      "12 LightlyActiveMinutes             0             1 1.93e+2 1.09e+2          0\n",
      "13 SedentaryMinutes                 0             1 9.91e+2 3.01e+2          0\n",
      "14 Calories                         0             1 2.30e+3 7.18e+2          0\n",
      "             p25     p50     p75    p100\n",
      " 1 2320127002    4.45e+9 6.96e+9 8.88e+9\n",
      " 2       3790.   7.41e+3 1.07e+4 3.60e+4\n",
      " 3          2.62 5.24e+0 7.71e+0 2.80e+1\n",
      " 4          2.62 5.24e+0 7.71e+0 2.80e+1\n",
      " 5          0    0       0       4.94e+0\n",
      " 6          0    2.10e-1 2.05e+0 2.19e+1\n",
      " 7          0    2.40e-1 8.00e-1 6.48e+0\n",
      " 8          1.95 3.36e+0 4.78e+0 1.07e+1\n",
      " 9          0    0       0       1.10e-1\n",
      "10          0    4   e+0 3.2 e+1 2.1 e+2\n",
      "11          0    6   e+0 1.9 e+1 1.43e+2\n",
      "12        127    1.99e+2 2.64e+2 5.18e+2\n",
      "13        730.   1.06e+3 1.23e+3 1.44e+3\n",
      "14       1828.   2.13e+3 2.79e+3 4.9 e+3\n"
     ]
    }
   ],
   "source": [
    "library(skimr)\n",
    "skim_without_charts(daily_activity)"
   ]
  },
  {
   "cell_type": "code",
   "execution_count": 5,
   "id": "6a3a5d6a",
   "metadata": {
    "execution": {
     "iopub.execute_input": "2021-07-17T14:34:59.124411Z",
     "iopub.status.busy": "2021-07-17T14:34:59.122664Z",
     "iopub.status.idle": "2021-07-17T14:34:59.176087Z",
     "shell.execute_reply": "2021-07-17T14:34:59.174618Z"
    },
    "papermill": {
     "duration": 0.096873,
     "end_time": "2021-07-17T14:34:59.176256",
     "exception": false,
     "start_time": "2021-07-17T14:34:59.079383",
     "status": "completed"
    },
    "tags": []
   },
   "outputs": [
    {
     "name": "stderr",
     "output_type": "stream",
     "text": [
      "\n",
      "\u001b[36m──\u001b[39m \u001b[1m\u001b[1mColumn specification\u001b[1m\u001b[22m \u001b[36m────────────────────────────────────────────────────────\u001b[39m\n",
      "cols(\n",
      "  Id = \u001b[32mcol_double()\u001b[39m,\n",
      "  ActivityDay = \u001b[31mcol_character()\u001b[39m,\n",
      "  Calories = \u001b[32mcol_double()\u001b[39m\n",
      ")\n",
      "\n",
      "\n"
     ]
    }
   ],
   "source": [
    "daily_calories <- read_csv(\"../input/fitbit/Fitabase Data 4.12.16-5.12.16/dailyCalories_merged.csv\")"
   ]
  },
  {
   "cell_type": "code",
   "execution_count": 6,
   "id": "cdedc3dd",
   "metadata": {
    "execution": {
     "iopub.execute_input": "2021-07-17T14:34:59.262178Z",
     "iopub.status.busy": "2021-07-17T14:34:59.260547Z",
     "iopub.status.idle": "2021-07-17T14:34:59.419326Z",
     "shell.execute_reply": "2021-07-17T14:34:59.417896Z"
    },
    "papermill": {
     "duration": 0.203717,
     "end_time": "2021-07-17T14:34:59.419481",
     "exception": false,
     "start_time": "2021-07-17T14:34:59.215764",
     "status": "completed"
    },
    "tags": []
   },
   "outputs": [
    {
     "name": "stdout",
     "output_type": "stream",
     "text": [
      "── Data Summary ────────────────────────\n",
      "                           Values        \n",
      "Name                       daily_calories\n",
      "Number of rows             940           \n",
      "Number of columns          3             \n",
      "_______________________                  \n",
      "Column type frequency:                   \n",
      "  character                1             \n",
      "  numeric                  2             \n",
      "________________________                 \n",
      "Group variables            None          \n",
      "\n",
      "── Variable type: character ────────────────────────────────────────────────────\n",
      "  skim_variable n_missing complete_rate   min   max empty n_unique whitespace\n",
      "1 ActivityDay           0             1     8     9     0       31          0\n",
      "\n",
      "── Variable type: numeric ──────────────────────────────────────────────────────\n",
      "  skim_variable n_missing complete_rate        mean          sd         p0\n",
      "1 Id                    0             1 4855407369. 2424805476. 1503960366\n",
      "2 Calories              0             1       2304.        718.          0\n",
      "          p25        p50         p75       p100\n",
      "1 2320127002  4445114986 6962181067  8877689391\n",
      "2       1828.       2134       2793.       4900\n"
     ]
    }
   ],
   "source": [
    "skim_without_charts(daily_calories)"
   ]
  },
  {
   "cell_type": "code",
   "execution_count": 7,
   "id": "4e9cc5ac",
   "metadata": {
    "execution": {
     "iopub.execute_input": "2021-07-17T14:34:59.504955Z",
     "iopub.status.busy": "2021-07-17T14:34:59.503262Z",
     "iopub.status.idle": "2021-07-17T14:34:59.694933Z",
     "shell.execute_reply": "2021-07-17T14:34:59.692659Z"
    },
    "papermill": {
     "duration": 0.236168,
     "end_time": "2021-07-17T14:34:59.695101",
     "exception": false,
     "start_time": "2021-07-17T14:34:59.458933",
     "status": "completed"
    },
    "tags": []
   },
   "outputs": [
    {
     "name": "stderr",
     "output_type": "stream",
     "text": [
      "\n",
      "\u001b[36m──\u001b[39m \u001b[1m\u001b[1mColumn specification\u001b[1m\u001b[22m \u001b[36m────────────────────────────────────────────────────────\u001b[39m\n",
      "cols(\n",
      "  Id = \u001b[32mcol_double()\u001b[39m,\n",
      "  ActivityDay = \u001b[31mcol_character()\u001b[39m,\n",
      "  StepTotal = \u001b[32mcol_double()\u001b[39m\n",
      ")\n",
      "\n",
      "\n"
     ]
    },
    {
     "name": "stdout",
     "output_type": "stream",
     "text": [
      "── Data Summary ────────────────────────\n",
      "                           Values     \n",
      "Name                       daily_steps\n",
      "Number of rows             940        \n",
      "Number of columns          3          \n",
      "_______________________               \n",
      "Column type frequency:                \n",
      "  character                1          \n",
      "  numeric                  2          \n",
      "________________________              \n",
      "Group variables            None       \n",
      "\n",
      "── Variable type: character ────────────────────────────────────────────────────\n",
      "  skim_variable n_missing complete_rate   min   max empty n_unique whitespace\n",
      "1 ActivityDay           0             1     8     9     0       31          0\n",
      "\n",
      "── Variable type: numeric ──────────────────────────────────────────────────────\n",
      "  skim_variable n_missing complete_rate        mean          sd         p0\n",
      "1 Id                    0             1 4855407369. 2424805476. 1503960366\n",
      "2 StepTotal             0             1       7638.       5087.          0\n",
      "          p25         p50        p75       p100\n",
      "1 2320127002  4445114986  6962181067 8877689391\n",
      "2       3790.       7406.      10727      36019\n"
     ]
    }
   ],
   "source": [
    "daily_steps <- read_csv(\"../input/fitbit/Fitabase Data 4.12.16-5.12.16/dailySteps_merged.csv\")\n",
    "skim_without_charts(daily_steps)"
   ]
  },
  {
   "cell_type": "code",
   "execution_count": 8,
   "id": "8cdc0da6",
   "metadata": {
    "execution": {
     "iopub.execute_input": "2021-07-17T14:34:59.781187Z",
     "iopub.status.busy": "2021-07-17T14:34:59.779500Z",
     "iopub.status.idle": "2021-07-17T14:35:00.442982Z",
     "shell.execute_reply": "2021-07-17T14:35:00.440490Z"
    },
    "papermill": {
     "duration": 0.708026,
     "end_time": "2021-07-17T14:35:00.443152",
     "exception": false,
     "start_time": "2021-07-17T14:34:59.735126",
     "status": "completed"
    },
    "tags": []
   },
   "outputs": [
    {
     "name": "stderr",
     "output_type": "stream",
     "text": [
      "\n",
      "\u001b[36m──\u001b[39m \u001b[1m\u001b[1mColumn specification\u001b[1m\u001b[22m \u001b[36m────────────────────────────────────────────────────────\u001b[39m\n",
      "cols(\n",
      "  Id = \u001b[32mcol_double()\u001b[39m,\n",
      "  ActivityHour = \u001b[31mcol_character()\u001b[39m,\n",
      "  Calories = \u001b[32mcol_double()\u001b[39m\n",
      ")\n",
      "\n",
      "\n",
      "\n",
      "\u001b[36m──\u001b[39m \u001b[1m\u001b[1mColumn specification\u001b[1m\u001b[22m \u001b[36m────────────────────────────────────────────────────────\u001b[39m\n",
      "cols(\n",
      "  Id = \u001b[32mcol_double()\u001b[39m,\n",
      "  ActivityHour = \u001b[31mcol_character()\u001b[39m,\n",
      "  StepTotal = \u001b[32mcol_double()\u001b[39m\n",
      ")\n",
      "\n",
      "\n",
      "\n",
      "\u001b[36m──\u001b[39m \u001b[1m\u001b[1mColumn specification\u001b[1m\u001b[22m \u001b[36m────────────────────────────────────────────────────────\u001b[39m\n",
      "cols(\n",
      "  Id = \u001b[32mcol_double()\u001b[39m,\n",
      "  SleepDay = \u001b[31mcol_character()\u001b[39m,\n",
      "  TotalSleepRecords = \u001b[32mcol_double()\u001b[39m,\n",
      "  TotalMinutesAsleep = \u001b[32mcol_double()\u001b[39m,\n",
      "  TotalTimeInBed = \u001b[32mcol_double()\u001b[39m\n",
      ")\n",
      "\n",
      "\n"
     ]
    },
    {
     "name": "stdout",
     "output_type": "stream",
     "text": [
      "── Data Summary ────────────────────────\n",
      "                           Values         \n",
      "Name                       hourly_calories\n",
      "Number of rows             22099          \n",
      "Number of columns          3              \n",
      "_______________________                   \n",
      "Column type frequency:                    \n",
      "  character                1              \n",
      "  numeric                  2              \n",
      "________________________                  \n",
      "Group variables            None           \n",
      "\n",
      "── Variable type: character ────────────────────────────────────────────────────\n",
      "  skim_variable n_missing complete_rate   min   max empty n_unique whitespace\n",
      "1 ActivityHour          0             1    19    21     0      736          0\n",
      "\n",
      "── Variable type: numeric ──────────────────────────────────────────────────────\n",
      "  skim_variable n_missing complete_rate         mean           sd         p0\n",
      "1 Id                    0             1 4848235270.  2422500401.  1503960366\n",
      "2 Calories              0             1         97.4         60.7         42\n",
      "         p25        p50        p75       p100\n",
      "1 2320127002 4445114986 6962181067 8877689391\n",
      "2         63         83        108        948\n",
      "── Data Summary ────────────────────────\n",
      "                           Values      \n",
      "Name                       hourly_steps\n",
      "Number of rows             22099       \n",
      "Number of columns          3           \n",
      "_______________________                \n",
      "Column type frequency:                 \n",
      "  character                1           \n",
      "  numeric                  2           \n",
      "________________________               \n",
      "Group variables            None        \n",
      "\n",
      "── Variable type: character ────────────────────────────────────────────────────\n",
      "  skim_variable n_missing complete_rate   min   max empty n_unique whitespace\n",
      "1 ActivityHour          0             1    19    21     0      736          0\n",
      "\n",
      "── Variable type: numeric ──────────────────────────────────────────────────────\n",
      "  skim_variable n_missing complete_rate        mean          sd         p0\n",
      "1 Id                    0             1 4848235270. 2422500401. 1503960366\n",
      "2 StepTotal             0             1        320.        690.          0\n",
      "         p25        p50        p75       p100\n",
      "1 2320127002 4445114986 6962181067 8877689391\n",
      "2          0         40        357      10554\n",
      "── Data Summary ────────────────────────\n",
      "                           Values   \n",
      "Name                       sleep_day\n",
      "Number of rows             413      \n",
      "Number of columns          5        \n",
      "_______________________             \n",
      "Column type frequency:              \n",
      "  character                1        \n",
      "  numeric                  4        \n",
      "________________________            \n",
      "Group variables            None     \n",
      "\n",
      "── Variable type: character ────────────────────────────────────────────────────\n",
      "  skim_variable n_missing complete_rate   min   max empty n_unique whitespace\n",
      "1 SleepDay              0             1    20    21     0       31          0\n",
      "\n",
      "── Variable type: numeric ──────────────────────────────────────────────────────\n",
      "  skim_variable      n_missing complete_rate          mean      sd         p0\n",
      "1 Id                         0             1 5000979403.   2.06e+9 1503960366\n",
      "2 TotalSleepRecords          0             1          1.12 3.46e-1          1\n",
      "3 TotalMinutesAsleep         0             1        419.   1.18e+2         58\n",
      "4 TotalTimeInBed             0             1        459.   1.27e+2         61\n",
      "         p25        p50        p75       p100\n",
      "1 3977333714 4702921684 6962181067 8792009665\n",
      "2          1          1          1          3\n",
      "3        361        433        490        796\n",
      "4        403        463        526        961\n"
     ]
    }
   ],
   "source": [
    "hourly_calories <- read_csv(\"../input/fitbit/Fitabase Data 4.12.16-5.12.16/hourlyCalories_merged.csv\")\n",
    "hourly_steps <- read_csv(\"../input/fitbit/Fitabase Data 4.12.16-5.12.16/hourlySteps_merged.csv\")\n",
    "sleep_day <- read_csv(\"../input/fitbit/Fitabase Data 4.12.16-5.12.16/sleepDay_merged.csv\")\n",
    "skim_without_charts(hourly_calories)\n",
    "skim_without_charts(hourly_steps)\n",
    "skim_without_charts(sleep_day)"
   ]
  },
  {
   "cell_type": "markdown",
   "id": "75e643d2",
   "metadata": {
    "papermill": {
     "duration": 0.04161,
     "end_time": "2021-07-17T14:35:00.526981",
     "exception": false,
     "start_time": "2021-07-17T14:35:00.485371",
     "status": "completed"
    },
    "tags": []
   },
   "source": [
    "The about summary itself gives a info about the unique , missing mean and sd of each dataset.\n"
   ]
  },
  {
   "cell_type": "markdown",
   "id": "b09c4905",
   "metadata": {
    "papermill": {
     "duration": 0.041602,
     "end_time": "2021-07-17T14:35:00.610418",
     "exception": false,
     "start_time": "2021-07-17T14:35:00.568816",
     "status": "completed"
    },
    "tags": []
   },
   "source": [
    "**The Data needs be cleaned for accurate result.**\n",
    "\n",
    "Since there are numerous column in daily activity lets make a table of selected column.\n"
   ]
  },
  {
   "cell_type": "code",
   "execution_count": 9,
   "id": "08f33574",
   "metadata": {
    "execution": {
     "iopub.execute_input": "2021-07-17T14:35:00.701331Z",
     "iopub.status.busy": "2021-07-17T14:35:00.699078Z",
     "iopub.status.idle": "2021-07-17T14:35:00.742926Z",
     "shell.execute_reply": "2021-07-17T14:35:00.741203Z"
    },
    "papermill": {
     "duration": 0.090762,
     "end_time": "2021-07-17T14:35:00.743101",
     "exception": false,
     "start_time": "2021-07-17T14:35:00.652339",
     "status": "completed"
    },
    "tags": []
   },
   "outputs": [
    {
     "name": "stdout",
     "output_type": "stream",
     "text": [
      "Rows: 940\n",
      "Columns: 8\n",
      "$ Id                   <dbl> 1503960366, 1503960366, 1503960366, 1503960366, 1…\n",
      "$ ActivityDate         <chr> \"4/12/2016\", \"4/13/2016\", \"4/14/2016\", \"4/15/2016…\n",
      "$ TotalSteps           <dbl> 13162, 10735, 10460, 9762, 12669, 9705, 13019, 15…\n",
      "$ TotalDistance        <dbl> 8.50, 6.97, 6.74, 6.28, 8.16, 6.48, 8.59, 9.88, 6…\n",
      "$ VeryActiveMinutes    <dbl> 25, 21, 30, 29, 36, 38, 42, 50, 28, 19, 66, 41, 3…\n",
      "$ FairlyActiveMinutes  <dbl> 13, 19, 11, 34, 10, 20, 16, 31, 12, 8, 27, 21, 5,…\n",
      "$ LightlyActiveMinutes <dbl> 328, 217, 181, 209, 221, 164, 233, 264, 205, 211,…\n",
      "$ SedentaryMinutes     <dbl> 728, 776, 1218, 726, 773, 539, 1149, 775, 818, 83…\n"
     ]
    }
   ],
   "source": [
    "activity_cleaned <- daily_activity %>%\n",
    "  select(Id, ActivityDate, TotalSteps, TotalDistance, VeryActiveMinutes,FairlyActiveMinutes,LightlyActiveMinutes, SedentaryMinutes)\n",
    "glimpse(activity_cleaned)"
   ]
  },
  {
   "cell_type": "markdown",
   "id": "808b0b2e",
   "metadata": {
    "papermill": {
     "duration": 0.041937,
     "end_time": "2021-07-17T14:35:00.827517",
     "exception": false,
     "start_time": "2021-07-17T14:35:00.785580",
     "status": "completed"
    },
    "tags": []
   },
   "source": [
    "**From 15 columns we have chosen 8 column to continue our analysis further**"
   ]
  },
  {
   "cell_type": "markdown",
   "id": "ca4e9dd3",
   "metadata": {
    "papermill": {
     "duration": 0.041868,
     "end_time": "2021-07-17T14:35:00.911678",
     "exception": false,
     "start_time": "2021-07-17T14:35:00.869810",
     "status": "completed"
    },
    "tags": []
   },
   "source": [
    "*In order to more easily look at the activity patterns, the columns for very active, fairly active, and lightly active minutes will be combined so it can later on be compared with the sedentary minutes.*"
   ]
  },
  {
   "cell_type": "code",
   "execution_count": 10,
   "id": "c05700eb",
   "metadata": {
    "execution": {
     "iopub.execute_input": "2021-07-17T14:35:01.003731Z",
     "iopub.status.busy": "2021-07-17T14:35:01.001453Z",
     "iopub.status.idle": "2021-07-17T14:35:01.030718Z",
     "shell.execute_reply": "2021-07-17T14:35:01.029052Z"
    },
    "papermill": {
     "duration": 0.076929,
     "end_time": "2021-07-17T14:35:01.030885",
     "exception": false,
     "start_time": "2021-07-17T14:35:00.953956",
     "status": "completed"
    },
    "tags": []
   },
   "outputs": [
    {
     "name": "stdout",
     "output_type": "stream",
     "text": [
      "Rows: 940\n",
      "Columns: 9\n",
      "$ Id                   <dbl> 1503960366, 1503960366, 1503960366, 1503960366, 1…\n",
      "$ ActivityDate         <chr> \"4/12/2016\", \"4/13/2016\", \"4/14/2016\", \"4/15/2016…\n",
      "$ TotalSteps           <dbl> 13162, 10735, 10460, 9762, 12669, 9705, 13019, 15…\n",
      "$ TotalDistance        <dbl> 8.50, 6.97, 6.74, 6.28, 8.16, 6.48, 8.59, 9.88, 6…\n",
      "$ VeryActiveMinutes    <dbl> 25, 21, 30, 29, 36, 38, 42, 50, 28, 19, 66, 41, 3…\n",
      "$ FairlyActiveMinutes  <dbl> 13, 19, 11, 34, 10, 20, 16, 31, 12, 8, 27, 21, 5,…\n",
      "$ LightlyActiveMinutes <dbl> 328, 217, 181, 209, 221, 164, 233, 264, 205, 211,…\n",
      "$ SedentaryMinutes     <dbl> 728, 776, 1218, 726, 773, 539, 1149, 775, 818, 83…\n",
      "$ TotalActiveMinutes   <dbl> 366, 257, 222, 272, 267, 222, 291, 345, 245, 238,…\n"
     ]
    }
   ],
   "source": [
    "# Creating new column for total active minutes\n",
    "activity_cleaned$TotalActiveMinutes <- rowSums(cbind(activity_cleaned$VeryActiveMinutes, activity_cleaned$FairlyActiveMinutes, activity_cleaned$LightlyActiveMinutes))\n",
    "glimpse(activity_cleaned)\n"
   ]
  },
  {
   "cell_type": "markdown",
   "id": "e677ffde",
   "metadata": {
    "papermill": {
     "duration": 0.042988,
     "end_time": "2021-07-17T14:35:01.117075",
     "exception": false,
     "start_time": "2021-07-17T14:35:01.074087",
     "status": "completed"
    },
    "tags": []
   },
   "source": [
    "**The activity patterns will then be summarized and new columns converting active minutes and sedentary minutes into hours will be created.**"
   ]
  },
  {
   "cell_type": "code",
   "execution_count": 11,
   "id": "56c4d0f9",
   "metadata": {
    "execution": {
     "iopub.execute_input": "2021-07-17T14:35:01.210043Z",
     "iopub.status.busy": "2021-07-17T14:35:01.208237Z",
     "iopub.status.idle": "2021-07-17T14:35:01.354991Z",
     "shell.execute_reply": "2021-07-17T14:35:01.352982Z"
    },
    "papermill": {
     "duration": 0.194522,
     "end_time": "2021-07-17T14:35:01.355194",
     "exception": false,
     "start_time": "2021-07-17T14:35:01.160672",
     "status": "completed"
    },
    "tags": []
   },
   "outputs": [
    {
     "name": "stdout",
     "output_type": "stream",
     "text": [
      "── Data Summary ────────────────────────\n",
      "                           Values          \n",
      "Name                       activity_summary\n",
      "Number of rows             33              \n",
      "Number of columns          7               \n",
      "_______________________                    \n",
      "Column type frequency:                     \n",
      "  numeric                  7               \n",
      "________________________                   \n",
      "Group variables            None            \n",
      "\n",
      "── Variable type: numeric ──────────────────────────────────────────────────────\n",
      "  skim_variable n_missing complete_rate         mean           sd           p0\n",
      "1 Id                    0             1 4857200967.  2433765464.  1503960366  \n",
      "2 min_active            0             1         37.6         53.2          0  \n",
      "3 max_active            0             1        395.          84.4        164  \n",
      "4 min_sedentary         0             1        501.         331.           0  \n",
      "5 max_sedentary         0             1       1322.         180.         851  \n",
      "6 avg_active            0             1        225.          81.8         40.7\n",
      "7 avg_sedentary         0             1        999.         228.         662. \n",
      "          p25         p50         p75        p100\n",
      "1 2347167796  4445114986  6962181067  8877689391 \n",
      "2          0           0          58         172 \n",
      "3        366         400         446         552 \n",
      "4        222         531         736        1193 \n",
      "5       1287        1440        1440        1440 \n",
      "6        170.        245.        287.        341.\n",
      "7        766.       1078.       1207.       1317.\n"
     ]
    }
   ],
   "source": [
    "# Summary of active and sedentary time by user\n",
    "activity_summary <- activity_cleaned %>%\n",
    "  group_by(Id) %>%\n",
    "  summarize(min_active = min(TotalActiveMinutes), max_active = max(TotalActiveMinutes), min_sedentary = min(SedentaryMinutes), max_sedentary = max(SedentaryMinutes), avg_active = mean(TotalActiveMinutes), avg_sedentary = mean(SedentaryMinutes))\n",
    "skim_without_charts(activity_summary)"
   ]
  },
  {
   "cell_type": "markdown",
   "id": "fa4f64f9",
   "metadata": {
    "papermill": {
     "duration": 0.043426,
     "end_time": "2021-07-17T14:35:01.442427",
     "exception": false,
     "start_time": "2021-07-17T14:35:01.399001",
     "status": "completed"
    },
    "tags": []
   },
   "source": [
    "### Lets create a new column"
   ]
  },
  {
   "cell_type": "code",
   "execution_count": 12,
   "id": "c7faf8e8",
   "metadata": {
    "execution": {
     "iopub.execute_input": "2021-07-17T14:35:01.535796Z",
     "iopub.status.busy": "2021-07-17T14:35:01.533625Z",
     "iopub.status.idle": "2021-07-17T14:35:01.561888Z",
     "shell.execute_reply": "2021-07-17T14:35:01.560268Z"
    },
    "papermill": {
     "duration": 0.076332,
     "end_time": "2021-07-17T14:35:01.562063",
     "exception": false,
     "start_time": "2021-07-17T14:35:01.485731",
     "status": "completed"
    },
    "tags": []
   },
   "outputs": [],
   "source": [
    "# Creating new column of active and sedentary time by hours in activity_summary dataframe\n",
    "activity_summary$min_active_hrs <- activity_summary$min_active/60\n",
    "activity_summary$max_active_hrs <- activity_summary$max_active/60\n",
    "activity_summary$min_sedentary_hrs <- activity_summary$min_sedentary/60\n",
    "activity_summary$max_sedentary_hrs <- activity_summary$max_sedentary/60\n",
    "activity_summary$avg_active_hrs <- activity_summary$avg_active/60\n",
    "activity_summary$avg_sedentary_hrs <- activity_summary$avg_sedentary/60"
   ]
  },
  {
   "cell_type": "markdown",
   "id": "90f862cb",
   "metadata": {
    "papermill": {
     "duration": 0.048879,
     "end_time": "2021-07-17T14:35:01.653759",
     "exception": false,
     "start_time": "2021-07-17T14:35:01.604880",
     "status": "completed"
    },
    "tags": []
   },
   "source": [
    "Another aspect worth looking at later on is to see the activity patterns on an hourly basis. In order to do this, the datasets for hourly steps and hourly calories will be combined and cleaned."
   ]
  },
  {
   "cell_type": "code",
   "execution_count": 13,
   "id": "682a8851",
   "metadata": {
    "execution": {
     "iopub.execute_input": "2021-07-17T14:35:01.757759Z",
     "iopub.status.busy": "2021-07-17T14:35:01.755632Z",
     "iopub.status.idle": "2021-07-17T14:35:01.787262Z",
     "shell.execute_reply": "2021-07-17T14:35:01.785736Z"
    },
    "papermill": {
     "duration": 0.080073,
     "end_time": "2021-07-17T14:35:01.787422",
     "exception": false,
     "start_time": "2021-07-17T14:35:01.707349",
     "status": "completed"
    },
    "tags": []
   },
   "outputs": [
    {
     "name": "stderr",
     "output_type": "stream",
     "text": [
      "New names:\n",
      "* Id -> Id...1\n",
      "* ActivityHour -> ActivityHour...2\n",
      "* Id -> Id...4\n",
      "* ActivityHour -> ActivityHour...5\n",
      "\n"
     ]
    }
   ],
   "source": [
    "#Combining hourly_steps and hourly_calories into one dataframe\n",
    "hourly_activity <- bind_cols(hourly_steps, hourly_calories)"
   ]
  },
  {
   "cell_type": "code",
   "execution_count": 14,
   "id": "ec8407d8",
   "metadata": {
    "execution": {
     "iopub.execute_input": "2021-07-17T14:35:01.894844Z",
     "iopub.status.busy": "2021-07-17T14:35:01.893288Z",
     "iopub.status.idle": "2021-07-17T14:35:01.917061Z",
     "shell.execute_reply": "2021-07-17T14:35:01.915533Z"
    },
    "papermill": {
     "duration": 0.08378,
     "end_time": "2021-07-17T14:35:01.917220",
     "exception": false,
     "start_time": "2021-07-17T14:35:01.833440",
     "status": "completed"
    },
    "tags": []
   },
   "outputs": [],
   "source": [
    "hourly_activity_cleaned <- hourly_activity %>%\n",
    "  rename(Id = Id...1, ActivityHour = ActivityHour...2) %>%\n",
    "  select(Id, ActivityHour, StepTotal, Calories)"
   ]
  },
  {
   "cell_type": "code",
   "execution_count": 15,
   "id": "bc9e26f0",
   "metadata": {
    "execution": {
     "iopub.execute_input": "2021-07-17T14:35:02.016346Z",
     "iopub.status.busy": "2021-07-17T14:35:02.013646Z",
     "iopub.status.idle": "2021-07-17T14:35:02.118054Z",
     "shell.execute_reply": "2021-07-17T14:35:02.116409Z"
    },
    "papermill": {
     "duration": 0.157547,
     "end_time": "2021-07-17T14:35:02.118281",
     "exception": false,
     "start_time": "2021-07-17T14:35:01.960734",
     "status": "completed"
    },
    "tags": []
   },
   "outputs": [],
   "source": [
    "# Creating new column of time of activity\n",
    "hourly_activity_cleaned$ActivityHour <- mdy_hms(hourly_activity_cleaned$ActivityHour)\n",
    "hourly_activity_cleaned$Time <- format(as.POSIXct(hourly_activity_cleaned$ActivityHour), format = \"%H:%M:%S\")"
   ]
  },
  {
   "cell_type": "markdown",
   "id": "c6a0ac5b",
   "metadata": {
    "papermill": {
     "duration": 0.043238,
     "end_time": "2021-07-17T14:35:02.204889",
     "exception": false,
     "start_time": "2021-07-17T14:35:02.161651",
     "status": "completed"
    },
    "tags": []
   },
   "source": [
    ">  The last aspect that will be analyzed in this particular case study is the sleep habits observed in the sampled users. In order to do this the sleep time dataset will be cleaned for analysis."
   ]
  },
  {
   "cell_type": "markdown",
   "id": "18611bc4",
   "metadata": {
    "papermill": {
     "duration": 0.044028,
     "end_time": "2021-07-17T14:35:02.293450",
     "exception": false,
     "start_time": "2021-07-17T14:35:02.249422",
     "status": "completed"
    },
    "tags": []
   },
   "source": [
    "**Converting the minutes into Hours**"
   ]
  },
  {
   "cell_type": "code",
   "execution_count": 16,
   "id": "2414901c",
   "metadata": {
    "execution": {
     "iopub.execute_input": "2021-07-17T14:35:02.388001Z",
     "iopub.status.busy": "2021-07-17T14:35:02.386232Z",
     "iopub.status.idle": "2021-07-17T14:35:02.406665Z",
     "shell.execute_reply": "2021-07-17T14:35:02.404910Z"
    },
    "papermill": {
     "duration": 0.069528,
     "end_time": "2021-07-17T14:35:02.406888",
     "exception": false,
     "start_time": "2021-07-17T14:35:02.337360",
     "status": "completed"
    },
    "tags": []
   },
   "outputs": [],
   "source": [
    "# Creating new column for sleep time and time in bed in hours\n",
    "sleep_day$TotalHoursAsleep <- sleep_day$TotalMinutesAsleep/60\n",
    "sleep_day$TotalHoursInBed <- sleep_day$TotalTimeInBed/60"
   ]
  },
  {
   "cell_type": "markdown",
   "id": "82e65f73",
   "metadata": {
    "papermill": {
     "duration": 0.043519,
     "end_time": "2021-07-17T14:35:02.494066",
     "exception": false,
     "start_time": "2021-07-17T14:35:02.450547",
     "status": "completed"
    },
    "tags": []
   },
   "source": [
    "Lets find the sleep habit of users"
   ]
  },
  {
   "cell_type": "code",
   "execution_count": 17,
   "id": "4df70cd5",
   "metadata": {
    "execution": {
     "iopub.execute_input": "2021-07-17T14:35:02.587113Z",
     "iopub.status.busy": "2021-07-17T14:35:02.585414Z",
     "iopub.status.idle": "2021-07-17T14:35:02.615641Z",
     "shell.execute_reply": "2021-07-17T14:35:02.614121Z"
    },
    "papermill": {
     "duration": 0.078579,
     "end_time": "2021-07-17T14:35:02.615831",
     "exception": false,
     "start_time": "2021-07-17T14:35:02.537252",
     "status": "completed"
    },
    "tags": []
   },
   "outputs": [
    {
     "name": "stdout",
     "output_type": "stream",
     "text": [
      "Rows: 24\n",
      "Columns: 3\n",
      "$ Id             <dbl> 1503960366, 1644430081, 1844505072, 1927972279, 2026352…\n",
      "$ avg_sleep_hrs  <dbl> 6.004667, 4.900000, 10.866667, 6.950000, 8.436310, 1.01…\n",
      "$ avg_hrs_in_bed <dbl> 6.386667, 5.766667, 16.016667, 7.296667, 8.960714, 1.15…\n"
     ]
    }
   ],
   "source": [
    "# Summary of sleep habit by user\n",
    "sleep_summary <- sleep_day %>%\n",
    "  group_by(Id) %>%\n",
    "  summarize(avg_sleep_hrs = mean(TotalHoursAsleep), avg_hrs_in_bed = mean(TotalHoursInBed))\n",
    "glimpse(sleep_summary)"
   ]
  },
  {
   "cell_type": "markdown",
   "id": "a38db011",
   "metadata": {
    "papermill": {
     "duration": 0.043815,
     "end_time": "2021-07-17T14:35:02.707215",
     "exception": false,
     "start_time": "2021-07-17T14:35:02.663400",
     "status": "completed"
    },
    "tags": []
   },
   "source": [
    "# Step 4 : ANALYZE\n",
    "**One of the first aspects that needs to be analyzed in order to get a better understanding of Bellabeat’s users is their activity patterns as observed in the sampled user base. We will first look at the average time that users are active vs. the time that they are sedentary.**"
   ]
  },
  {
   "cell_type": "markdown",
   "id": "1e8139a8",
   "metadata": {
    "papermill": {
     "duration": 0.043445,
     "end_time": "2021-07-17T14:35:02.794366",
     "exception": false,
     "start_time": "2021-07-17T14:35:02.750921",
     "status": "completed"
    },
    "tags": []
   },
   "source": []
  },
  {
   "cell_type": "code",
   "execution_count": 18,
   "id": "b4dd5795",
   "metadata": {
    "execution": {
     "iopub.execute_input": "2021-07-17T14:35:02.890233Z",
     "iopub.status.busy": "2021-07-17T14:35:02.888594Z",
     "iopub.status.idle": "2021-07-17T14:35:02.918322Z",
     "shell.execute_reply": "2021-07-17T14:35:02.916973Z"
    },
    "papermill": {
     "duration": 0.078244,
     "end_time": "2021-07-17T14:35:02.918477",
     "exception": false,
     "start_time": "2021-07-17T14:35:02.840233",
     "status": "completed"
    },
    "tags": []
   },
   "outputs": [
    {
     "data": {
      "text/html": [
       "<table class=\"dataframe\">\n",
       "<caption>A tibble: 1 × 2</caption>\n",
       "<thead>\n",
       "\t<tr><th scope=col>avg_active</th><th scope=col>avg_sedentary</th></tr>\n",
       "\t<tr><th scope=col>&lt;dbl&gt;</th><th scope=col>&lt;dbl&gt;</th></tr>\n",
       "</thead>\n",
       "<tbody>\n",
       "\t<tr><td>3.751505</td><td>16.65252</td></tr>\n",
       "</tbody>\n",
       "</table>\n"
      ],
      "text/latex": [
       "A tibble: 1 × 2\n",
       "\\begin{tabular}{ll}\n",
       " avg\\_active & avg\\_sedentary\\\\\n",
       " <dbl> & <dbl>\\\\\n",
       "\\hline\n",
       "\t 3.751505 & 16.65252\\\\\n",
       "\\end{tabular}\n"
      ],
      "text/markdown": [
       "\n",
       "A tibble: 1 × 2\n",
       "\n",
       "| avg_active &lt;dbl&gt; | avg_sedentary &lt;dbl&gt; |\n",
       "|---|---|\n",
       "| 3.751505 | 16.65252 |\n",
       "\n"
      ],
      "text/plain": [
       "  avg_active avg_sedentary\n",
       "1 3.751505   16.65252     "
      ]
     },
     "metadata": {},
     "output_type": "display_data"
    }
   ],
   "source": [
    "activity_summary %>%\n",
    "  summarize(avg_active = mean(avg_active_hrs), avg_sedentary = mean(avg_sedentary_hrs))"
   ]
  },
  {
   "cell_type": "markdown",
   "id": "0faf64dd",
   "metadata": {
    "papermill": {
     "duration": 0.044458,
     "end_time": "2021-07-17T14:35:03.007562",
     "exception": false,
     "start_time": "2021-07-17T14:35:02.963104",
     "status": "completed"
    },
    "tags": []
   },
   "source": [
    "> **It's evident that users are active for around 3.75 hours whereas the sedentary time is quite higher which is not good. In order to make sure that users are active through out the week, we will look out the patterns of activity levels throughout the week. We want to know whether users are active throughout the weekdays and being in rest on weekdays or vice versa. By better understanding the activity level, we can recommend Bellabeat to create appropriate marketing strategy targeting the user needs.**"
   ]
  },
  {
   "cell_type": "code",
   "execution_count": 19,
   "id": "f186fc8a",
   "metadata": {
    "execution": {
     "iopub.execute_input": "2021-07-17T14:35:03.102352Z",
     "iopub.status.busy": "2021-07-17T14:35:03.100634Z",
     "iopub.status.idle": "2021-07-17T14:35:03.161942Z",
     "shell.execute_reply": "2021-07-17T14:35:03.160112Z"
    },
    "papermill": {
     "duration": 0.110455,
     "end_time": "2021-07-17T14:35:03.162110",
     "exception": false,
     "start_time": "2021-07-17T14:35:03.051655",
     "status": "completed"
    },
    "tags": []
   },
   "outputs": [
    {
     "data": {
      "text/html": [
       "<table class=\"dataframe\">\n",
       "<caption>A tibble: 7 × 5</caption>\n",
       "<thead>\n",
       "\t<tr><th scope=col>DayofWeek</th><th scope=col>avg_daily_steps</th><th scope=col>avg_daily_distance</th><th scope=col>avg_sedentary_time</th><th scope=col>avg_active_time</th></tr>\n",
       "\t<tr><th scope=col>&lt;chr&gt;</th><th scope=col>&lt;dbl&gt;</th><th scope=col>&lt;dbl&gt;</th><th scope=col>&lt;dbl&gt;</th><th scope=col>&lt;dbl&gt;</th></tr>\n",
       "</thead>\n",
       "<tbody>\n",
       "\t<tr><td>Friday   </td><td>7448.230</td><td>5.309921</td><td>16.67183</td><td>3.939418</td></tr>\n",
       "\t<tr><td>Monday   </td><td>7780.867</td><td>5.552917</td><td>17.13236</td><td>3.819444</td></tr>\n",
       "\t<tr><td>Saturday </td><td>8152.976</td><td>5.854677</td><td>16.07137</td><td>4.071102</td></tr>\n",
       "\t<tr><td>Sunday   </td><td>6933.231</td><td>5.027190</td><td>16.50427</td><td>3.474793</td></tr>\n",
       "\t<tr><td>Thursday </td><td>7405.837</td><td>5.312245</td><td>16.03322</td><td>3.613152</td></tr>\n",
       "\t<tr><td>Tuesday  </td><td>8125.007</td><td>5.832237</td><td>16.78936</td><td>3.910526</td></tr>\n",
       "\t<tr><td>Wednesday</td><td>7559.373</td><td>5.488333</td><td>16.49133</td><td>3.728889</td></tr>\n",
       "</tbody>\n",
       "</table>\n"
      ],
      "text/latex": [
       "A tibble: 7 × 5\n",
       "\\begin{tabular}{lllll}\n",
       " DayofWeek & avg\\_daily\\_steps & avg\\_daily\\_distance & avg\\_sedentary\\_time & avg\\_active\\_time\\\\\n",
       " <chr> & <dbl> & <dbl> & <dbl> & <dbl>\\\\\n",
       "\\hline\n",
       "\t Friday    & 7448.230 & 5.309921 & 16.67183 & 3.939418\\\\\n",
       "\t Monday    & 7780.867 & 5.552917 & 17.13236 & 3.819444\\\\\n",
       "\t Saturday  & 8152.976 & 5.854677 & 16.07137 & 4.071102\\\\\n",
       "\t Sunday    & 6933.231 & 5.027190 & 16.50427 & 3.474793\\\\\n",
       "\t Thursday  & 7405.837 & 5.312245 & 16.03322 & 3.613152\\\\\n",
       "\t Tuesday   & 8125.007 & 5.832237 & 16.78936 & 3.910526\\\\\n",
       "\t Wednesday & 7559.373 & 5.488333 & 16.49133 & 3.728889\\\\\n",
       "\\end{tabular}\n"
      ],
      "text/markdown": [
       "\n",
       "A tibble: 7 × 5\n",
       "\n",
       "| DayofWeek &lt;chr&gt; | avg_daily_steps &lt;dbl&gt; | avg_daily_distance &lt;dbl&gt; | avg_sedentary_time &lt;dbl&gt; | avg_active_time &lt;dbl&gt; |\n",
       "|---|---|---|---|---|\n",
       "| Friday    | 7448.230 | 5.309921 | 16.67183 | 3.939418 |\n",
       "| Monday    | 7780.867 | 5.552917 | 17.13236 | 3.819444 |\n",
       "| Saturday  | 8152.976 | 5.854677 | 16.07137 | 4.071102 |\n",
       "| Sunday    | 6933.231 | 5.027190 | 16.50427 | 3.474793 |\n",
       "| Thursday  | 7405.837 | 5.312245 | 16.03322 | 3.613152 |\n",
       "| Tuesday   | 8125.007 | 5.832237 | 16.78936 | 3.910526 |\n",
       "| Wednesday | 7559.373 | 5.488333 | 16.49133 | 3.728889 |\n",
       "\n"
      ],
      "text/plain": [
       "  DayofWeek avg_daily_steps avg_daily_distance avg_sedentary_time\n",
       "1 Friday    7448.230        5.309921           16.67183          \n",
       "2 Monday    7780.867        5.552917           17.13236          \n",
       "3 Saturday  8152.976        5.854677           16.07137          \n",
       "4 Sunday    6933.231        5.027190           16.50427          \n",
       "5 Thursday  7405.837        5.312245           16.03322          \n",
       "6 Tuesday   8125.007        5.832237           16.78936          \n",
       "7 Wednesday 7559.373        5.488333           16.49133          \n",
       "  avg_active_time\n",
       "1 3.939418       \n",
       "2 3.819444       \n",
       "3 4.071102       \n",
       "4 3.474793       \n",
       "5 3.613152       \n",
       "6 3.910526       \n",
       "7 3.728889       "
      ]
     },
     "metadata": {},
     "output_type": "display_data"
    }
   ],
   "source": [
    "# Observing activity throughout the week\n",
    "activity_by_day <- activity_cleaned %>%\n",
    "  select(Id, ActivityDate, TotalSteps, TotalDistance, SedentaryMinutes, TotalActiveMinutes)\n",
    "\n",
    "activity_by_day$ActivityDate <- parse_date_time(activity_by_day$ActivityDate, orders = c(\"mdy\"))\n",
    "activity_by_day$DayofWeek <- weekdays(activity_by_day$ActivityDate)\n",
    "\n",
    "activity_by_day$TotalSedentaryHours <- activity_by_day$SedentaryMinutes/60\n",
    "activity_by_day$TotalActiveHours <- activity_by_day$TotalActiveMinutes/60\n",
    "\n",
    "activity_by_day %>%\n",
    "  group_by(DayofWeek) %>%\n",
    "  summarize(avg_daily_steps = mean(TotalSteps), avg_daily_distance = mean(TotalDistance), avg_sedentary_time = mean(TotalSedentaryHours), avg_active_time = mean(TotalActiveHours))"
   ]
  },
  {
   "cell_type": "markdown",
   "id": "b355f8b1",
   "metadata": {
    "papermill": {
     "duration": 0.046114,
     "end_time": "2021-07-17T14:35:03.253520",
     "exception": false,
     "start_time": "2021-07-17T14:35:03.207406",
     "status": "completed"
    },
    "tags": []
   },
   "source": [
    "# Step 5 : Visaulisation - SHARE"
   ]
  },
  {
   "cell_type": "code",
   "execution_count": 20,
   "id": "46e37fc0",
   "metadata": {
    "execution": {
     "iopub.execute_input": "2021-07-17T14:35:03.353159Z",
     "iopub.status.busy": "2021-07-17T14:35:03.350938Z",
     "iopub.status.idle": "2021-07-17T14:35:03.906482Z",
     "shell.execute_reply": "2021-07-17T14:35:03.905024Z"
    },
    "papermill": {
     "duration": 0.607308,
     "end_time": "2021-07-17T14:35:03.906649",
     "exception": false,
     "start_time": "2021-07-17T14:35:03.299341",
     "status": "completed"
    },
    "tags": []
   },
   "outputs": [
    {
     "data": {
      "image/png": "[encoded data removed]"
     },
     "metadata": {
      "image/png": {
       "height": 420,
       "width": 420
      }
     },
     "output_type": "display_data"
    }
   ],
   "source": [
    "activity_by_day$DayofWeek <- factor(activity_by_day$DayofWeek, levels = c(\"Monday\", \"Tuesday\", \"Wednesday\", \"Thursday\", \"Friday\", \"Saturday\", \"Sunday\"))\n",
    "\n",
    "activity_by_day_summary <- activity_by_day %>%\n",
    "  group_by(DayofWeek) %>%\n",
    "  summarize(avg_daily_steps = mean(TotalSteps), avg_daily_distance = mean(TotalDistance), avg_sedentary_time = mean(TotalSedentaryHours), avg_active_time = mean(TotalActiveHours))\n",
    "\n",
    "ggplot(activity_by_day_summary, aes(x = DayofWeek, y = avg_active_time)) +\n",
    "         geom_bar(position = \"dodge\", stat = \"identity\", fill = \"Blue\") +\n",
    "  ylim(0, 10) +\n",
    "  theme_classic() +\n",
    "  labs(title = \"Users' activity habits throughout the week\", subtitle = \"Relatively consistent activity levels throughout the week with a peak on Saturday\", x = \"Day of the week\", y = \"Avg activity time (hours)\") +\n",
    "  theme(plot.title = element_text(face = \"bold\"))"
   ]
  },
  {
   "cell_type": "markdown",
   "id": "be56cc91",
   "metadata": {
    "papermill": {
     "duration": 0.046556,
     "end_time": "2021-07-17T14:35:04.000665",
     "exception": false,
     "start_time": "2021-07-17T14:35:03.954109",
     "status": "completed"
    },
    "tags": []
   },
   "source": [
    "The visualization tells us that the users are quiet active throughout the weeks with slight peak at saturdays. Let's explore more to know at what hours the users are usally quiet active in a day.\n"
   ]
  },
  {
   "cell_type": "code",
   "execution_count": 21,
   "id": "cbad5cfe",
   "metadata": {
    "execution": {
     "iopub.execute_input": "2021-07-17T14:35:04.101659Z",
     "iopub.status.busy": "2021-07-17T14:35:04.100002Z",
     "iopub.status.idle": "2021-07-17T14:35:04.201041Z",
     "shell.execute_reply": "2021-07-17T14:35:04.199613Z"
    },
    "papermill": {
     "duration": 0.154147,
     "end_time": "2021-07-17T14:35:04.201265",
     "exception": false,
     "start_time": "2021-07-17T14:35:04.047118",
     "status": "completed"
    },
    "tags": []
   },
   "outputs": [
    {
     "name": "stderr",
     "output_type": "stream",
     "text": [
      "\n",
      "Attaching package: ‘reshape2’\n",
      "\n",
      "\n",
      "The following object is masked from ‘package:tidyr’:\n",
      "\n",
      "    smiths\n",
      "\n",
      "\n"
     ]
    }
   ],
   "source": [
    "# Summary of avg activity by time of day\n",
    "hourly_activity_summary <- hourly_activity_cleaned %>%\n",
    "  group_by(Time) %>%\n",
    "  summarize(avg_step = mean(StepTotal), avg_calories = mean(Calories))\n",
    "\n",
    "# Observing activity levels throughout the day\n",
    "library(reshape2)"
   ]
  },
  {
   "cell_type": "code",
   "execution_count": 22,
   "id": "1d0971cd",
   "metadata": {
    "execution": {
     "iopub.execute_input": "2021-07-17T14:35:04.304511Z",
     "iopub.status.busy": "2021-07-17T14:35:04.302807Z",
     "iopub.status.idle": "2021-07-17T14:35:04.338883Z",
     "shell.execute_reply": "2021-07-17T14:35:04.337294Z"
    },
    "papermill": {
     "duration": 0.089982,
     "end_time": "2021-07-17T14:35:04.339042",
     "exception": false,
     "start_time": "2021-07-17T14:35:04.249060",
     "status": "completed"
    },
    "tags": []
   },
   "outputs": [
    {
     "name": "stderr",
     "output_type": "stream",
     "text": [
      "\n",
      "Attaching package: ‘hms’\n",
      "\n",
      "\n",
      "The following object is masked from ‘package:lubridate’:\n",
      "\n",
      "    hms\n",
      "\n",
      "\n"
     ]
    }
   ],
   "source": [
    "hourly_activity_summary2 <- melt(hourly_activity_summary, id.var = \"Time\")\n",
    "\n",
    "library(hms)"
   ]
  },
  {
   "cell_type": "markdown",
   "id": "7c4b6233",
   "metadata": {
    "papermill": {
     "duration": 0.048026,
     "end_time": "2021-07-17T14:35:04.435443",
     "exception": false,
     "start_time": "2021-07-17T14:35:04.387417",
     "status": "completed"
    },
    "tags": []
   },
   "source": [
    "### Lets visualize the daily pattern"
   ]
  },
  {
   "cell_type": "code",
   "execution_count": 23,
   "id": "3095b121",
   "metadata": {
    "execution": {
     "iopub.execute_input": "2021-07-17T14:35:04.537771Z",
     "iopub.status.busy": "2021-07-17T14:35:04.536185Z",
     "iopub.status.idle": "2021-07-17T14:35:04.907650Z",
     "shell.execute_reply": "2021-07-17T14:35:04.906561Z"
    },
    "papermill": {
     "duration": 0.424405,
     "end_time": "2021-07-17T14:35:04.907821",
     "exception": false,
     "start_time": "2021-07-17T14:35:04.483416",
     "status": "completed"
    },
    "tags": []
   },
   "outputs": [
    {
     "data": {
      "image/png": "[encoded data removed]"
     },
     "metadata": {
      "image/png": {
       "height": 420,
       "width": 420
      }
     },
     "output_type": "display_data"
    }
   ],
   "source": [
    "hourly_activity_summary2$Time <- as_hms(hourly_activity_summary2$Time)\n",
    "\n",
    "ggplot(hourly_activity_summary2, aes(x = Time, y = value, color = variable)) +\n",
    "  geom_line() +\n",
    "  theme_classic() +\n",
    "  labs(title = \"Users' daily activity pattern\", subtitle = \"Users tend to be most active between 6-8 PM and 12-2PM\", x = \"Time of day\", y = \"Value\") +\n",
    "  theme(plot.title = element_text(face = \"bold\"))"
   ]
  },
  {
   "cell_type": "markdown",
   "id": "085ac0a4",
   "metadata": {
    "papermill": {
     "duration": 0.050002,
     "end_time": "2021-07-17T14:35:05.007657",
     "exception": false,
     "start_time": "2021-07-17T14:35:04.957655",
     "status": "completed"
    },
    "tags": []
   },
   "source": [
    "> **Users’ activity levels can be seen by their average steps and average calories expended throughout the day. Based on the chart, it can be seen that users tend to most active based on their steps between 5-7 PM and 12-2 PM. This may suggest either that users prefer to be active during these times or that these are the times when they are able to be active, for example if they are professionals. However, due to the limited number of sampled user base, a follow up analysis with more users will need to be conducted to gain a better understanding of their activity patterns throughout the day.\n",
    "> Despite the limited sampled user base, we will look at the aggregate average daily steps and daily calories to get a snapshot of how active the users are.**"
   ]
  },
  {
   "cell_type": "code",
   "execution_count": 24,
   "id": "4c5a0d90",
   "metadata": {
    "execution": {
     "iopub.execute_input": "2021-07-17T14:35:05.116516Z",
     "iopub.status.busy": "2021-07-17T14:35:05.114854Z",
     "iopub.status.idle": "2021-07-17T14:35:05.174663Z",
     "shell.execute_reply": "2021-07-17T14:35:05.173134Z"
    },
    "papermill": {
     "duration": 0.115415,
     "end_time": "2021-07-17T14:35:05.174848",
     "exception": false,
     "start_time": "2021-07-17T14:35:05.059433",
     "status": "completed"
    },
    "tags": []
   },
   "outputs": [
    {
     "data": {
      "text/html": [
       "<table class=\"dataframe\">\n",
       "<caption>A data.frame: 1 × 2</caption>\n",
       "<thead>\n",
       "\t<tr><th scope=col>avg_daily_steps</th><th scope=col>avg_daily_calories</th></tr>\n",
       "\t<tr><th scope=col>&lt;dbl&gt;</th><th scope=col>&lt;dbl&gt;</th></tr>\n",
       "</thead>\n",
       "<tbody>\n",
       "\t<tr><td>7519.273</td><td>2282.444</td></tr>\n",
       "</tbody>\n",
       "</table>\n"
      ],
      "text/latex": [
       "A data.frame: 1 × 2\n",
       "\\begin{tabular}{ll}\n",
       " avg\\_daily\\_steps & avg\\_daily\\_calories\\\\\n",
       " <dbl> & <dbl>\\\\\n",
       "\\hline\n",
       "\t 7519.273 & 2282.444\\\\\n",
       "\\end{tabular}\n"
      ],
      "text/markdown": [
       "\n",
       "A data.frame: 1 × 2\n",
       "\n",
       "| avg_daily_steps &lt;dbl&gt; | avg_daily_calories &lt;dbl&gt; |\n",
       "|---|---|\n",
       "| 7519.273 | 2282.444 |\n",
       "\n"
      ],
      "text/plain": [
       "  avg_daily_steps avg_daily_calories\n",
       "1 7519.273        2282.444          "
      ]
     },
     "metadata": {},
     "output_type": "display_data"
    }
   ],
   "source": [
    "# Aggregate of daily steps\n",
    "steps_summarized <- daily_steps %>%\n",
    "  group_by(Id) %>%\n",
    "  summarize(avg_steps = mean(StepTotal))\n",
    "\n",
    "#Aggregate of daily calories\n",
    "calories_summarized <- daily_calories %>%\n",
    "  group_by(Id) %>%\n",
    "  summarize(avg_calories = mean(Calories))\n",
    "\n",
    "# Combining aggregate steps and calories\n",
    "daily_activity_summarized <- merge(steps_summarized, calories_summarized, by = \"Id\")\n",
    "\n",
    "# Statistical summary of daily activity\n",
    "daily_activity_summarized %>%\n",
    "  summarize(avg_daily_steps = mean(avg_steps), avg_daily_calories = mean(avg_calories))"
   ]
  },
  {
   "cell_type": "markdown",
   "id": "adb0a812",
   "metadata": {
    "papermill": {
     "duration": 0.051657,
     "end_time": "2021-07-17T14:35:05.276847",
     "exception": false,
     "start_time": "2021-07-17T14:35:05.225190",
     "status": "completed"
    },
    "tags": []
   },
   "source": [
    "Based on the data, the sampled users have an average of around 7,500 daily steps and expend around 2,282 daily calories. As a reference, according to Healthline an average adult’s daily steps “ranges from 7,500 to 9,999 steps per day” and “a sedentary woman aged 19 to 30 burns 1,800 to 2,000 calories daily, while a sedentary woman aged 31 to 51 burns about 1,800 calories per day”. \n",
    "Lastly, another health aspect worth looking into is the sleep habits of users."
   ]
  },
  {
   "cell_type": "code",
   "execution_count": 25,
   "id": "31cc9e13",
   "metadata": {
    "execution": {
     "iopub.execute_input": "2021-07-17T14:35:05.385018Z",
     "iopub.status.busy": "2021-07-17T14:35:05.383236Z",
     "iopub.status.idle": "2021-07-17T14:35:05.412818Z",
     "shell.execute_reply": "2021-07-17T14:35:05.411129Z"
    },
    "papermill": {
     "duration": 0.085442,
     "end_time": "2021-07-17T14:35:05.412977",
     "exception": false,
     "start_time": "2021-07-17T14:35:05.327535",
     "status": "completed"
    },
    "tags": []
   },
   "outputs": [
    {
     "data": {
      "text/html": [
       "<table class=\"dataframe\">\n",
       "<caption>A tibble: 1 × 2</caption>\n",
       "<thead>\n",
       "\t<tr><th scope=col>avg_sleep</th><th scope=col>avg_time_in_bed</th></tr>\n",
       "\t<tr><th scope=col>&lt;dbl&gt;</th><th scope=col>&lt;dbl&gt;</th></tr>\n",
       "</thead>\n",
       "<tbody>\n",
       "\t<tr><td>6.294125</td><td>7.001599</td></tr>\n",
       "</tbody>\n",
       "</table>\n"
      ],
      "text/latex": [
       "A tibble: 1 × 2\n",
       "\\begin{tabular}{ll}\n",
       " avg\\_sleep & avg\\_time\\_in\\_bed\\\\\n",
       " <dbl> & <dbl>\\\\\n",
       "\\hline\n",
       "\t 6.294125 & 7.001599\\\\\n",
       "\\end{tabular}\n"
      ],
      "text/markdown": [
       "\n",
       "A tibble: 1 × 2\n",
       "\n",
       "| avg_sleep &lt;dbl&gt; | avg_time_in_bed &lt;dbl&gt; |\n",
       "|---|---|\n",
       "| 6.294125 | 7.001599 |\n",
       "\n"
      ],
      "text/plain": [
       "  avg_sleep avg_time_in_bed\n",
       "1 6.294125  7.001599       "
      ]
     },
     "metadata": {},
     "output_type": "display_data"
    }
   ],
   "source": [
    "# Aggregate mean of sleep habit for all users\n",
    "sleep_summary %>%\n",
    "  summarize(avg_sleep = mean(avg_sleep_hrs), avg_time_in_bed = mean(avg_hrs_in_bed))"
   ]
  },
  {
   "cell_type": "markdown",
   "id": "2b4e8ceb",
   "metadata": {
    "papermill": {
     "duration": 0.051281,
     "end_time": "2021-07-17T14:35:05.516077",
     "exception": false,
     "start_time": "2021-07-17T14:35:05.464796",
     "status": "completed"
    },
    "tags": []
   },
   "source": [
    "#### Based on the data, the sampled users sleep for an average of 6 hours which is a little less than the recommended sleep time stated by the National Sleep Foundation where young adults between 18-25 years old and adults between 26-64 years old should sleep for 7-9 hours every night. Sleep patterns are important to analyze because it is a key health metric and getting enough sleep will help improve overall health."
   ]
  },
  {
   "cell_type": "markdown",
   "id": "4d6160b5",
   "metadata": {
    "papermill": {
     "duration": 0.051702,
     "end_time": "2021-07-17T14:35:05.619146",
     "exception": false,
     "start_time": "2021-07-17T14:35:05.567444",
     "status": "completed"
    },
    "tags": []
   },
   "source": [
    "Let's see is there any correlation between sleep and activity.\n",
    "With the available data, we will look at the correlation between sleep duration and activity levels in the sampled user base."
   ]
  },
  {
   "cell_type": "code",
   "execution_count": 26,
   "id": "b25427c5",
   "metadata": {
    "execution": {
     "iopub.execute_input": "2021-07-17T14:35:05.729499Z",
     "iopub.status.busy": "2021-07-17T14:35:05.727788Z",
     "iopub.status.idle": "2021-07-17T14:35:07.652495Z",
     "shell.execute_reply": "2021-07-17T14:35:07.651494Z"
    },
    "papermill": {
     "duration": 1.982261,
     "end_time": "2021-07-17T14:35:07.652652",
     "exception": false,
     "start_time": "2021-07-17T14:35:05.670391",
     "status": "completed"
    },
    "tags": []
   },
   "outputs": [
    {
     "name": "stderr",
     "output_type": "stream",
     "text": [
      "`geom_smooth()` using formula 'y ~ x'\n",
      "\n"
     ]
    },
    {
     "data": {
      "image/png": "[encoded data removed]"
     },
     "metadata": {
      "image/png": {
       "height": 420,
       "width": 420
      }
     },
     "output_type": "display_data"
    }
   ],
   "source": [
    "# Observing correlation between avg activity levels and sleep\n",
    "activity_summary2 <- activity_summary %>%\n",
    "  select(Id, avg_active_hrs, avg_sedentary_hrs)\n",
    "\n",
    "activity_vs_sleep <- merge(activity_summary2, sleep_summary, by = \"Id\")\n",
    "\n",
    "ggplot(activity_vs_sleep, aes(x = avg_active_hrs, y = avg_sleep_hrs)) +\n",
    "  geom_point() +\n",
    "  geom_smooth(method = \"loess\") +\n",
    "  geom_text(aes(x = 0.5, y = 11.8, label = \"cor = -0.23\"), size = 4, hjust = 0) +\n",
    "  theme_classic() +\n",
    "  labs(title = \"Correlation between users' avg active hours and sleep\", subtitle = \"Most users who are active for 4-5 hrs also get around 7-8 hrs of sleep\", x = \"Avg active hours\", y = \"Avg sleep hours\") +\n",
    "  theme(plot.title = element_text(face = \"bold\"))"
   ]
  },
  {
   "cell_type": "code",
   "execution_count": 27,
   "id": "4b5ad869",
   "metadata": {
    "execution": {
     "iopub.execute_input": "2021-07-17T14:35:07.768038Z",
     "iopub.status.busy": "2021-07-17T14:35:07.766466Z",
     "iopub.status.idle": "2021-07-17T14:35:07.789934Z",
     "shell.execute_reply": "2021-07-17T14:35:07.788200Z"
    },
    "papermill": {
     "duration": 0.083177,
     "end_time": "2021-07-17T14:35:07.790120",
     "exception": false,
     "start_time": "2021-07-17T14:35:07.706943",
     "status": "completed"
    },
    "tags": []
   },
   "outputs": [
    {
     "data": {
      "text/plain": [
       "\n",
       "\tPearson's product-moment correlation\n",
       "\n",
       "data:  activity_vs_sleep$avg_active_hrs and activity_vs_sleep$avg_sleep_hrs\n",
       "t = -1.1109, df = 22, p-value = 0.2786\n",
       "alternative hypothesis: true correlation is not equal to 0\n",
       "95 percent confidence interval:\n",
       " -0.5799489  0.1906510\n",
       "sample estimates:\n",
       "       cor \n",
       "-0.2304707 \n"
      ]
     },
     "metadata": {},
     "output_type": "display_data"
    }
   ],
   "source": [
    "# Correlation coefficient test avg active hours vs sleep\n",
    "cor.test(activity_vs_sleep$avg_active_hrs, activity_vs_sleep$avg_sleep_hrs, method = c(\"pearson\", \"kendall\", \"spearman\"))"
   ]
  },
  {
   "cell_type": "markdown",
   "id": "e2fe07d1",
   "metadata": {
    "papermill": {
     "duration": 0.054533,
     "end_time": "2021-07-17T14:35:07.899463",
     "exception": false,
     "start_time": "2021-07-17T14:35:07.844930",
     "status": "completed"
    },
    "tags": []
   },
   "source": [
    "Due to the limited data available, we are unable to see a clear correlation between users’ active hours and their sleep duration. What is observed from the data is that most users who are active for 4-5 hours also get around 7-8 hours of sleep. A follow up study with more user data should be conducted to better test this hypothesis since the correlation test for this data only resulted in a week -0.23 correlation coefficient.\n",
    "\n",
    "Lastly, we will look at the correlation between average calories expended, indicating the level of activity throughout the day, and the sleep habits to see if we can see a clearer correlation between the two."
   ]
  },
  {
   "cell_type": "code",
   "execution_count": 28,
   "id": "051e4b64",
   "metadata": {
    "execution": {
     "iopub.execute_input": "2021-07-17T14:35:08.014749Z",
     "iopub.status.busy": "2021-07-17T14:35:08.013102Z",
     "iopub.status.idle": "2021-07-17T14:35:08.343787Z",
     "shell.execute_reply": "2021-07-17T14:35:08.342822Z"
    },
    "papermill": {
     "duration": 0.390293,
     "end_time": "2021-07-17T14:35:08.343957",
     "exception": false,
     "start_time": "2021-07-17T14:35:07.953664",
     "status": "completed"
    },
    "tags": []
   },
   "outputs": [
    {
     "name": "stderr",
     "output_type": "stream",
     "text": [
      "`geom_smooth()` using formula 'y ~ x'\n",
      "\n"
     ]
    },
    {
     "data": {
      "image/png": "[encoded data removed]"
     },
     "metadata": {
      "image/png": {
       "height": 420,
       "width": 420
      }
     },
     "output_type": "display_data"
    }
   ],
   "source": [
    "# Observing correlation between avg calories and sleep\n",
    "calories_vs_sleep <- merge(calories_summarized, sleep_summary, by = \"Id\")\n",
    "\n",
    "ggplot(calories_vs_sleep, aes(x = avg_calories, y = avg_sleep_hrs)) +\n",
    "  geom_point() +\n",
    "  geom_smooth(method = \"loess\") +\n",
    "  geom_text(aes(x = 1600, y = 11.8, label = \"cor = -0.04\"), size = 4, hjust = 0) +\n",
    "  theme_classic() +\n",
    "  labs(title = \"Correlation between users' avg expended calories and sleep\", subtitle = \"41% of sampled users burn an avg healthy 2000-2400 calories & most of them get 7-8 hours of sleep\", x = \"Avg calories expended\", y = \"Avg sleep hours\") +\n",
    "  theme(plot.title = element_text(face = \"bold\"))"
   ]
  },
  {
   "cell_type": "markdown",
   "id": "89a4c2b9",
   "metadata": {
    "papermill": {
     "duration": 0.057067,
     "end_time": "2021-07-17T14:35:08.458486",
     "exception": false,
     "start_time": "2021-07-17T14:35:08.401419",
     "status": "completed"
    },
    "tags": []
   },
   "source": [
    "Both the graph due to limited dataset, we could not see positive or negative relationship.Follow up studies with more user data should be done if we would like to test the hypothesis of the positive correlation between being more active and getting a better sleep duration."
   ]
  },
  {
   "cell_type": "markdown",
   "id": "74349e08",
   "metadata": {
    "papermill": {
     "duration": 0.057084,
     "end_time": "2021-07-17T14:35:08.573750",
     "exception": false,
     "start_time": "2021-07-17T14:35:08.516666",
     "status": "completed"
    },
    "tags": []
   },
   "source": [
    "# Step 6 : Key takeaways - ACT"
   ]
  },
  {
   "cell_type": "markdown",
   "id": "650cb1d9",
   "metadata": {
    "papermill": {
     "duration": 0.057367,
     "end_time": "2021-07-17T14:35:08.688361",
     "exception": false,
     "start_time": "2021-07-17T14:35:08.630994",
     "status": "completed"
    },
    "tags": []
   },
   "source": [
    "* The sampled Bellabeat users show a consistent activity pattern throughout the week suggesting they already have a habitual lifestyle routine\n",
    "* Sampled users tend to be most active between 12-2 PM and 5-7 PM during the day which may suggest that these are the most preferred time for users to be active or it is the most optimal time for them due to their lifestyles, such as their professional working hours.\n",
    "* They also seem to be moderately healthy with an average daily step count of around 7,500 and an average daily expended calories of around 2,300. This may suggest that they are using Bellabeat in order to maintain their healthy habits\n",
    "* Further follow up studies should be conducted with more user data to better understand how users use Bellabeat and their needs"
   ]
  },
  {
   "cell_type": "markdown",
   "id": "932b51ac",
   "metadata": {
    "papermill": {
     "duration": 0.100745,
     "end_time": "2021-07-17T14:35:08.846066",
     "exception": false,
     "start_time": "2021-07-17T14:35:08.745321",
     "status": "completed"
    },
    "tags": []
   },
   "source": []
  },
  {
   "cell_type": "markdown",
   "id": "fb50314b",
   "metadata": {
    "papermill": {
     "duration": 0.057718,
     "end_time": "2021-07-17T14:35:08.961608",
     "exception": false,
     "start_time": "2021-07-17T14:35:08.903890",
     "status": "completed"
    },
    "tags": []
   },
   "source": [
    "## RECOMMENDATIONS\n",
    "\n",
    ">**1. An example ad copy could be: “On average Bellabeat users take 7,500 steps per day compared to the national average of only 5,000 steps per day. Ready to start building healthy habits with Bellabeat?”**\n",
    "\n",
    ">**2. Send user-targeted push notifications to remind them to do an activity around peak active times (12-2 PM and 5-7 PM) in order to encourage them to use Bellabeat more consistently**\n",
    "\n",
    ">**3. Gamify the Bellabeat app to encourage more healthy habits, for example by encouraging more daily steps or more active minutes where users can set their own individual targets**"
   ]
  },
  {
   "cell_type": "markdown",
   "id": "afd11d30",
   "metadata": {
    "papermill": {
     "duration": 0.058271,
     "end_time": "2021-07-17T14:35:09.078352",
     "exception": false,
     "start_time": "2021-07-17T14:35:09.020081",
     "status": "completed"
    },
    "tags": []
   },
   "source": [
    "# "
   ]
  },
  {
   "cell_type": "markdown",
   "id": "76d5091f",
   "metadata": {
    "papermill": {
     "duration": 0.057309,
     "end_time": "2021-07-17T14:35:09.193518",
     "exception": false,
     "start_time": "2021-07-17T14:35:09.136209",
     "status": "completed"
    },
    "tags": []
   },
   "source": []
  }
 ],
 "metadata": {
  "kernelspec": {
   "display_name": "R",
   "language": "R",
   "name": "ir"
  },
  "language_info": {
   "codemirror_mode": "r",
   "file_extension": ".r",
   "mimetype": "text/x-r-source",
   "name": "R",
   "pygments_lexer": "r",
   "version": "4.0.5"
  },
  "papermill": {
   "default_parameters": {},
   "duration": 17.91375,
   "end_time": "2021-07-17T14:35:10.276925",
   "environment_variables": {},
   "exception": null,
   "input_path": "__notebook__.ipynb",
   "output_path": "__notebook__.ipynb",
   "parameters": {},
   "start_time": "2021-07-17T14:34:52.363175",
   "version": "2.3.3"
  }
 },
 "nbformat": 4,
 "nbformat_minor": 5
}
